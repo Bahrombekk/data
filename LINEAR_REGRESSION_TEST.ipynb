{
  "nbformat": 4,
  "nbformat_minor": 0,
  "metadata": {
    "colab": {
      "provenance": [],
      "collapsed_sections": [
        "ZJ77klRBLoec",
        "sJ4FR4E4q-k0",
        "B7WVtnqax2_x",
        "DZajIvf9MHlF"
      ],
      "authorship_tag": "ABX9TyMUl3WG2n+z4dNHxjvkhJ8z",
      "include_colab_link": true
    },
    "kernelspec": {
      "name": "python3",
      "display_name": "Python 3"
    },
    "language_info": {
      "name": "python"
    }
  },
  "cells": [
    {
      "cell_type": "markdown",
      "metadata": {
        "id": "view-in-github",
        "colab_type": "text"
      },
      "source": [
        "<a href=\"https://colab.research.google.com/github/Bahrombekk/data/blob/main/LINEAR_REGRESSION_TEST.ipynb\" target=\"_parent\"><img src=\"https://colab.research.google.com/assets/colab-badge.svg\" alt=\"Open In Colab\"/></a>"
      ]
    },
    {
      "cell_type": "code",
      "execution_count": 1,
      "metadata": {
        "id": "gPnKr2l7heS3"
      },
      "outputs": [],
      "source": [
        "import numpy as np\n",
        "import pandas as pd\n",
        "import matplotlib.pyplot as plt\n",
        "import csv"
      ]
    },
    {
      "cell_type": "markdown",
      "source": [
        "#DATA1"
      ],
      "metadata": {
        "id": "ZJ77klRBLoec"
      }
    },
    {
      "cell_type": "markdown",
      "source": [
        "Yillik Tajribasiga qarab mavoshini topish"
      ],
      "metadata": {
        "id": "OTDXtGt4NjbJ"
      }
    },
    {
      "cell_type": "code",
      "source": [
        "data=pd.read_csv(\"https://raw.githubusercontent.com/JavohirJalilov/Regression/master/Salary_Data.csv\")"
      ],
      "metadata": {
        "id": "QQDF_pB2iAsm"
      },
      "execution_count": 73,
      "outputs": []
    },
    {
      "cell_type": "code",
      "source": [
        "data"
      ],
      "metadata": {
        "colab": {
          "base_uri": "https://localhost:8080/",
          "height": 990
        },
        "id": "C9eRJrTKiCna",
        "outputId": "83512a0a-cd4e-40e5-ed4f-e9ad6becf20c"
      },
      "execution_count": 74,
      "outputs": [
        {
          "output_type": "execute_result",
          "data": {
            "text/plain": [
              "    YearsExperience    Salary\n",
              "0               1.1   39343.0\n",
              "1               1.3   46205.0\n",
              "2               1.5   37731.0\n",
              "3               2.0   43525.0\n",
              "4               2.2   39891.0\n",
              "5               2.9   56642.0\n",
              "6               3.0   60150.0\n",
              "7               3.2   54445.0\n",
              "8               3.2   64445.0\n",
              "9               3.7   57189.0\n",
              "10              3.9   63218.0\n",
              "11              4.0   55794.0\n",
              "12              4.0   56957.0\n",
              "13              4.1   57081.0\n",
              "14              4.5   61111.0\n",
              "15              4.9   67938.0\n",
              "16              5.1   66029.0\n",
              "17              5.3   83088.0\n",
              "18              5.9   81363.0\n",
              "19              6.0   93940.0\n",
              "20              6.8   91738.0\n",
              "21              7.1   98273.0\n",
              "22              7.9  101302.0\n",
              "23              8.2  113812.0\n",
              "24              8.7  109431.0\n",
              "25              9.0  105582.0\n",
              "26              9.5  116969.0\n",
              "27              9.6  112635.0\n",
              "28             10.3  122391.0\n",
              "29             10.5  121872.0"
            ],
            "text/html": [
              "\n",
              "  <div id=\"df-3334fcdf-256b-4992-90af-f01b30de5347\">\n",
              "    <div class=\"colab-df-container\">\n",
              "      <div>\n",
              "<style scoped>\n",
              "    .dataframe tbody tr th:only-of-type {\n",
              "        vertical-align: middle;\n",
              "    }\n",
              "\n",
              "    .dataframe tbody tr th {\n",
              "        vertical-align: top;\n",
              "    }\n",
              "\n",
              "    .dataframe thead th {\n",
              "        text-align: right;\n",
              "    }\n",
              "</style>\n",
              "<table border=\"1\" class=\"dataframe\">\n",
              "  <thead>\n",
              "    <tr style=\"text-align: right;\">\n",
              "      <th></th>\n",
              "      <th>YearsExperience</th>\n",
              "      <th>Salary</th>\n",
              "    </tr>\n",
              "  </thead>\n",
              "  <tbody>\n",
              "    <tr>\n",
              "      <th>0</th>\n",
              "      <td>1.1</td>\n",
              "      <td>39343.0</td>\n",
              "    </tr>\n",
              "    <tr>\n",
              "      <th>1</th>\n",
              "      <td>1.3</td>\n",
              "      <td>46205.0</td>\n",
              "    </tr>\n",
              "    <tr>\n",
              "      <th>2</th>\n",
              "      <td>1.5</td>\n",
              "      <td>37731.0</td>\n",
              "    </tr>\n",
              "    <tr>\n",
              "      <th>3</th>\n",
              "      <td>2.0</td>\n",
              "      <td>43525.0</td>\n",
              "    </tr>\n",
              "    <tr>\n",
              "      <th>4</th>\n",
              "      <td>2.2</td>\n",
              "      <td>39891.0</td>\n",
              "    </tr>\n",
              "    <tr>\n",
              "      <th>5</th>\n",
              "      <td>2.9</td>\n",
              "      <td>56642.0</td>\n",
              "    </tr>\n",
              "    <tr>\n",
              "      <th>6</th>\n",
              "      <td>3.0</td>\n",
              "      <td>60150.0</td>\n",
              "    </tr>\n",
              "    <tr>\n",
              "      <th>7</th>\n",
              "      <td>3.2</td>\n",
              "      <td>54445.0</td>\n",
              "    </tr>\n",
              "    <tr>\n",
              "      <th>8</th>\n",
              "      <td>3.2</td>\n",
              "      <td>64445.0</td>\n",
              "    </tr>\n",
              "    <tr>\n",
              "      <th>9</th>\n",
              "      <td>3.7</td>\n",
              "      <td>57189.0</td>\n",
              "    </tr>\n",
              "    <tr>\n",
              "      <th>10</th>\n",
              "      <td>3.9</td>\n",
              "      <td>63218.0</td>\n",
              "    </tr>\n",
              "    <tr>\n",
              "      <th>11</th>\n",
              "      <td>4.0</td>\n",
              "      <td>55794.0</td>\n",
              "    </tr>\n",
              "    <tr>\n",
              "      <th>12</th>\n",
              "      <td>4.0</td>\n",
              "      <td>56957.0</td>\n",
              "    </tr>\n",
              "    <tr>\n",
              "      <th>13</th>\n",
              "      <td>4.1</td>\n",
              "      <td>57081.0</td>\n",
              "    </tr>\n",
              "    <tr>\n",
              "      <th>14</th>\n",
              "      <td>4.5</td>\n",
              "      <td>61111.0</td>\n",
              "    </tr>\n",
              "    <tr>\n",
              "      <th>15</th>\n",
              "      <td>4.9</td>\n",
              "      <td>67938.0</td>\n",
              "    </tr>\n",
              "    <tr>\n",
              "      <th>16</th>\n",
              "      <td>5.1</td>\n",
              "      <td>66029.0</td>\n",
              "    </tr>\n",
              "    <tr>\n",
              "      <th>17</th>\n",
              "      <td>5.3</td>\n",
              "      <td>83088.0</td>\n",
              "    </tr>\n",
              "    <tr>\n",
              "      <th>18</th>\n",
              "      <td>5.9</td>\n",
              "      <td>81363.0</td>\n",
              "    </tr>\n",
              "    <tr>\n",
              "      <th>19</th>\n",
              "      <td>6.0</td>\n",
              "      <td>93940.0</td>\n",
              "    </tr>\n",
              "    <tr>\n",
              "      <th>20</th>\n",
              "      <td>6.8</td>\n",
              "      <td>91738.0</td>\n",
              "    </tr>\n",
              "    <tr>\n",
              "      <th>21</th>\n",
              "      <td>7.1</td>\n",
              "      <td>98273.0</td>\n",
              "    </tr>\n",
              "    <tr>\n",
              "      <th>22</th>\n",
              "      <td>7.9</td>\n",
              "      <td>101302.0</td>\n",
              "    </tr>\n",
              "    <tr>\n",
              "      <th>23</th>\n",
              "      <td>8.2</td>\n",
              "      <td>113812.0</td>\n",
              "    </tr>\n",
              "    <tr>\n",
              "      <th>24</th>\n",
              "      <td>8.7</td>\n",
              "      <td>109431.0</td>\n",
              "    </tr>\n",
              "    <tr>\n",
              "      <th>25</th>\n",
              "      <td>9.0</td>\n",
              "      <td>105582.0</td>\n",
              "    </tr>\n",
              "    <tr>\n",
              "      <th>26</th>\n",
              "      <td>9.5</td>\n",
              "      <td>116969.0</td>\n",
              "    </tr>\n",
              "    <tr>\n",
              "      <th>27</th>\n",
              "      <td>9.6</td>\n",
              "      <td>112635.0</td>\n",
              "    </tr>\n",
              "    <tr>\n",
              "      <th>28</th>\n",
              "      <td>10.3</td>\n",
              "      <td>122391.0</td>\n",
              "    </tr>\n",
              "    <tr>\n",
              "      <th>29</th>\n",
              "      <td>10.5</td>\n",
              "      <td>121872.0</td>\n",
              "    </tr>\n",
              "  </tbody>\n",
              "</table>\n",
              "</div>\n",
              "      <button class=\"colab-df-convert\" onclick=\"convertToInteractive('df-3334fcdf-256b-4992-90af-f01b30de5347')\"\n",
              "              title=\"Convert this dataframe to an interactive table.\"\n",
              "              style=\"display:none;\">\n",
              "        \n",
              "  <svg xmlns=\"http://www.w3.org/2000/svg\" height=\"24px\"viewBox=\"0 0 24 24\"\n",
              "       width=\"24px\">\n",
              "    <path d=\"M0 0h24v24H0V0z\" fill=\"none\"/>\n",
              "    <path d=\"M18.56 5.44l.94 2.06.94-2.06 2.06-.94-2.06-.94-.94-2.06-.94 2.06-2.06.94zm-11 1L8.5 8.5l.94-2.06 2.06-.94-2.06-.94L8.5 2.5l-.94 2.06-2.06.94zm10 10l.94 2.06.94-2.06 2.06-.94-2.06-.94-.94-2.06-.94 2.06-2.06.94z\"/><path d=\"M17.41 7.96l-1.37-1.37c-.4-.4-.92-.59-1.43-.59-.52 0-1.04.2-1.43.59L10.3 9.45l-7.72 7.72c-.78.78-.78 2.05 0 2.83L4 21.41c.39.39.9.59 1.41.59.51 0 1.02-.2 1.41-.59l7.78-7.78 2.81-2.81c.8-.78.8-2.07 0-2.86zM5.41 20L4 18.59l7.72-7.72 1.47 1.35L5.41 20z\"/>\n",
              "  </svg>\n",
              "      </button>\n",
              "      \n",
              "  <style>\n",
              "    .colab-df-container {\n",
              "      display:flex;\n",
              "      flex-wrap:wrap;\n",
              "      gap: 12px;\n",
              "    }\n",
              "\n",
              "    .colab-df-convert {\n",
              "      background-color: #E8F0FE;\n",
              "      border: none;\n",
              "      border-radius: 50%;\n",
              "      cursor: pointer;\n",
              "      display: none;\n",
              "      fill: #1967D2;\n",
              "      height: 32px;\n",
              "      padding: 0 0 0 0;\n",
              "      width: 32px;\n",
              "    }\n",
              "\n",
              "    .colab-df-convert:hover {\n",
              "      background-color: #E2EBFA;\n",
              "      box-shadow: 0px 1px 2px rgba(60, 64, 67, 0.3), 0px 1px 3px 1px rgba(60, 64, 67, 0.15);\n",
              "      fill: #174EA6;\n",
              "    }\n",
              "\n",
              "    [theme=dark] .colab-df-convert {\n",
              "      background-color: #3B4455;\n",
              "      fill: #D2E3FC;\n",
              "    }\n",
              "\n",
              "    [theme=dark] .colab-df-convert:hover {\n",
              "      background-color: #434B5C;\n",
              "      box-shadow: 0px 1px 3px 1px rgba(0, 0, 0, 0.15);\n",
              "      filter: drop-shadow(0px 1px 2px rgba(0, 0, 0, 0.3));\n",
              "      fill: #FFFFFF;\n",
              "    }\n",
              "  </style>\n",
              "\n",
              "      <script>\n",
              "        const buttonEl =\n",
              "          document.querySelector('#df-3334fcdf-256b-4992-90af-f01b30de5347 button.colab-df-convert');\n",
              "        buttonEl.style.display =\n",
              "          google.colab.kernel.accessAllowed ? 'block' : 'none';\n",
              "\n",
              "        async function convertToInteractive(key) {\n",
              "          const element = document.querySelector('#df-3334fcdf-256b-4992-90af-f01b30de5347');\n",
              "          const dataTable =\n",
              "            await google.colab.kernel.invokeFunction('convertToInteractive',\n",
              "                                                     [key], {});\n",
              "          if (!dataTable) return;\n",
              "\n",
              "          const docLinkHtml = 'Like what you see? Visit the ' +\n",
              "            '<a target=\"_blank\" href=https://colab.research.google.com/notebooks/data_table.ipynb>data table notebook</a>'\n",
              "            + ' to learn more about interactive tables.';\n",
              "          element.innerHTML = '';\n",
              "          dataTable['output_type'] = 'display_data';\n",
              "          await google.colab.output.renderOutput(dataTable, element);\n",
              "          const docLink = document.createElement('div');\n",
              "          docLink.innerHTML = docLinkHtml;\n",
              "          element.appendChild(docLink);\n",
              "        }\n",
              "      </script>\n",
              "    </div>\n",
              "  </div>\n",
              "  "
            ]
          },
          "metadata": {},
          "execution_count": 74
        }
      ]
    },
    {
      "cell_type": "code",
      "source": [
        "data=np.array(data)\n",
        "x=data[:,0]\n",
        "y=data[:,1]/10000\n",
        "print(x,y)"
      ],
      "metadata": {
        "colab": {
          "base_uri": "https://localhost:8080/"
        },
        "id": "s0hMu7RniFm8",
        "outputId": "04d32bc6-7f90-4636-f1ce-8cfe6b7da820"
      },
      "execution_count": 75,
      "outputs": [
        {
          "output_type": "stream",
          "name": "stdout",
          "text": [
            "[ 1.1  1.3  1.5  2.   2.2  2.9  3.   3.2  3.2  3.7  3.9  4.   4.   4.1\n",
            "  4.5  4.9  5.1  5.3  5.9  6.   6.8  7.1  7.9  8.2  8.7  9.   9.5  9.6\n",
            " 10.3 10.5] [ 3.9343  4.6205  3.7731  4.3525  3.9891  5.6642  6.015   5.4445  6.4445\n",
            "  5.7189  6.3218  5.5794  5.6957  5.7081  6.1111  6.7938  6.6029  8.3088\n",
            "  8.1363  9.394   9.1738  9.8273 10.1302 11.3812 10.9431 10.5582 11.6969\n",
            " 11.2635 12.2391 12.1872]\n"
          ]
        }
      ]
    },
    {
      "cell_type": "code",
      "source": [
        "plt.scatter(x,y)"
      ],
      "metadata": {
        "colab": {
          "base_uri": "https://localhost:8080/",
          "height": 447
        },
        "id": "43q3_FueiWrk",
        "outputId": "07de5367-ed74-439a-e446-6d86a94a5aef"
      },
      "execution_count": 76,
      "outputs": [
        {
          "output_type": "execute_result",
          "data": {
            "text/plain": [
              "<matplotlib.collections.PathCollection at 0x7f25f112d630>"
            ]
          },
          "metadata": {},
          "execution_count": 76
        },
        {
          "output_type": "display_data",
          "data": {
            "text/plain": [
              "<Figure size 640x480 with 1 Axes>"
            ],
            "image/png": "[encoded data removed]"
          },
          "metadata": {}
        }
      ]
    },
    {
      "cell_type": "code",
      "source": [
        "n=len(x)\n",
        "l=0.01\n",
        "loss_data=[]\n",
        "epoch=1000\n",
        "w=10\n",
        "b=15\n",
        "for i in range(epoch):\n",
        "  y_hat=x*w+b\n",
        "  mse=np.mean(np.abs(y-y_hat)**2)\n",
        "  loss_data.append(mse)\n",
        "  Dw=(-2/n)*np.sum(x*(y-y_hat))\n",
        "  Db=(-2/n)*np.sum(y-y_hat)\n",
        "  w=w-Dw*l\n",
        "  b=b-Db*l\n",
        "plt.show()\n",
        "print(f\"loss:{mse}\")\n",
        "print(f\"w:{w} b:{b}\")"
      ],
      "metadata": {
        "colab": {
          "base_uri": "https://localhost:8080/"
        },
        "id": "E3h1gIBricHW",
        "outputId": "378e1022-9bdc-4154-8ac5-339e78494d4e"
      },
      "execution_count": 77,
      "outputs": [
        {
          "output_type": "stream",
          "name": "stdout",
          "text": [
            "loss:0.3180317564923351\n",
            "w:0.9218106337422712 b:2.7354616136731122\n"
          ]
        }
      ]
    },
    {
      "cell_type": "code",
      "source": [
        "plt.scatter(x,y)\n",
        "plt.scatter(x,y_hat,c=\"r\")"
      ],
      "metadata": {
        "colab": {
          "base_uri": "https://localhost:8080/",
          "height": 447
        },
        "id": "JlSI3wsWwagh",
        "outputId": "1e67f337-807f-4ca1-934e-10b971cb287b"
      },
      "execution_count": 78,
      "outputs": [
        {
          "output_type": "execute_result",
          "data": {
            "text/plain": [
              "<matplotlib.collections.PathCollection at 0x7f25f8b5caf0>"
            ]
          },
          "metadata": {},
          "execution_count": 78
        },
        {
          "output_type": "display_data",
          "data": {
            "text/plain": [
              "<Figure size 640x480 with 1 Axes>"
            ],
            "image/png": "[encoded data removed]"
          },
          "metadata": {}
        }
      ]
    },
    {
      "cell_type": "code",
      "source": [
        "plt.plot(loss_data)"
      ],
      "metadata": {
        "id": "MnzU2A0XYi1H",
        "outputId": "d9f163f8-979c-4e8d-8623-39fdf5518f7d",
        "colab": {
          "base_uri": "https://localhost:8080/",
          "height": 447
        }
      },
      "execution_count": 79,
      "outputs": [
        {
          "output_type": "execute_result",
          "data": {
            "text/plain": [
              "[<matplotlib.lines.Line2D at 0x7f25f0ff3b80>]"
            ]
          },
          "metadata": {},
          "execution_count": 79
        },
        {
          "output_type": "display_data",
          "data": {
            "text/plain": [
              "<Figure size 640x480 with 1 Axes>"
            ],
            "image/png": "[encoded data removed]"
          },
          "metadata": {}
        }
      ]
    },
    {
      "cell_type": "code",
      "source": [
        "t=0.3\n",
        "test_x,test_y=x[:int(len(x)*0.3)],y[:int(len(y)*0.3)]\n",
        "print(len(test_x),len(x))"
      ],
      "metadata": {
        "colab": {
          "base_uri": "https://localhost:8080/"
        },
        "id": "T35wU8Isi9WJ",
        "outputId": "277b2214-5ad1-4f66-e019-1a2fcb61a824"
      },
      "execution_count": 80,
      "outputs": [
        {
          "output_type": "stream",
          "name": "stdout",
          "text": [
            "9 30\n"
          ]
        }
      ]
    },
    {
      "cell_type": "code",
      "source": [
        "n=len(test_x)\n",
        "l=0.01\n",
        "loss_data=[]\n",
        "epoch=5000\n",
        "w=10\n",
        "b=15\n",
        "for i in range(epoch):\n",
        "  y_hat=test_x*w+b\n",
        "  mse=np.mean(np.abs(test_y-y_hat)**2)\n",
        "  loss_data.append(mse)\n",
        "  Dw=(-2/n)*np.sum(test_x*(test_y-y_hat))\n",
        "  Db=(-2/n)*np.sum(test_y-y_hat)\n",
        "  w=w-Dw*l\n",
        "  b=b-Db*l\n",
        "plt.show()\n",
        "print(f\"loss:{mse}\")\n",
        "print(f\"Dw:{Dw} Db:{Db}\")"
      ],
      "metadata": {
        "colab": {
          "base_uri": "https://localhost:8080/"
        },
        "id": "7gXoG51KmZGj",
        "outputId": "e9685e22-b26a-4d24-8af6-36b42ce079c6"
      },
      "execution_count": 81,
      "outputs": [
        {
          "output_type": "stream",
          "name": "stdout",
          "text": [
            "loss:0.23536134265783698\n",
            "Dw:-4.7021559406020444e-05 Db:0.0001176333879388104\n"
          ]
        }
      ]
    },
    {
      "cell_type": "code",
      "source": [
        "plt.scatter(x,y)\n",
        "plt.scatter(test_x,y_hat,c=\"r\")"
      ],
      "metadata": {
        "colab": {
          "base_uri": "https://localhost:8080/",
          "height": 447
        },
        "id": "VpQ1_OMewx_P",
        "outputId": "6f29f98e-ad68-49af-f2d4-1546633a7ed0"
      },
      "execution_count": 82,
      "outputs": [
        {
          "output_type": "execute_result",
          "data": {
            "text/plain": [
              "<matplotlib.collections.PathCollection at 0x7f25f1063ac0>"
            ]
          },
          "metadata": {},
          "execution_count": 82
        },
        {
          "output_type": "display_data",
          "data": {
            "text/plain": [
              "<Figure size 640x480 with 1 Axes>"
            ],
            "image/png": "[encoded data removed]"
          },
          "metadata": {}
        }
      ]
    },
    {
      "cell_type": "code",
      "source": [
        "plt.plot(loss_data)"
      ],
      "metadata": {
        "id": "sd9BsfljY62Y",
        "outputId": "a4317541-8322-4d65-8a25-de4ed34c5c11",
        "colab": {
          "base_uri": "https://localhost:8080/",
          "height": 447
        }
      },
      "execution_count": 83,
      "outputs": [
        {
          "output_type": "execute_result",
          "data": {
            "text/plain": [
              "[<matplotlib.lines.Line2D at 0x7f25f12bf9d0>]"
            ]
          },
          "metadata": {},
          "execution_count": 83
        },
        {
          "output_type": "display_data",
          "data": {
            "text/plain": [
              "<Figure size 640x480 with 1 Axes>"
            ],
            "image/png": "[encoded data removed]"
          },
          "metadata": {}
        }
      ]
    },
    {
      "cell_type": "code",
      "source": [
        "y_hat=test_x[5]*w+b\n",
        "print(test_x[5])\n",
        "print(y_hat)"
      ],
      "metadata": {
        "colab": {
          "base_uri": "https://localhost:8080/"
        },
        "id": "uzvIanEIndLe",
        "outputId": "836f2b28-3878-47d9-9cce-0ea76e2ace9e"
      },
      "execution_count": 84,
      "outputs": [
        {
          "output_type": "stream",
          "name": "stdout",
          "text": [
            "2.9\n",
            "5.557394892319167\n"
          ]
        }
      ]
    },
    {
      "cell_type": "markdown",
      "source": [
        "#Data2"
      ],
      "metadata": {
        "id": "sJ4FR4E4q-k0"
      }
    },
    {
      "cell_type": "markdown",
      "source": [
        "Yilga qarab Aholi o'sishi"
      ],
      "metadata": {
        "id": "AIed3SWZNz6g"
      }
    },
    {
      "cell_type": "code",
      "source": [
        "data2=pd.read_csv(\"https://raw.githubusercontent.com/JavohirJalilov/AI-Matplotlib/master/dataset/Yearly%20Population%20Growth%20Rate.csv\")"
      ],
      "metadata": {
        "id": "QdFWgeR4rBiO"
      },
      "execution_count": 85,
      "outputs": []
    },
    {
      "cell_type": "code",
      "source": [
        "data2"
      ],
      "metadata": {
        "colab": {
          "base_uri": "https://localhost:8080/",
          "height": 488
        },
        "id": "ItkuOjaRrRSF",
        "outputId": "abdfbff4-af5e-492a-ee74-85413a8ea0cd"
      },
      "execution_count": 86,
      "outputs": [
        {
          "output_type": "execute_result",
          "data": {
            "text/plain": [
              "    Years  Population Growth\n",
              "0    1955               2.98\n",
              "1    1960               3.34\n",
              "2    1965               3.63\n",
              "3    1970               3.30\n",
              "4    1975               2.72\n",
              "5    1980               2.73\n",
              "6    1985               2.53\n",
              "7    1990               2.41\n",
              "8    1995               2.04\n",
              "9    2000               1.47\n",
              "10   2005               1.34\n",
              "11   2010               1.60\n",
              "12   2015               1.65\n",
              "13   2020               1.48"
            ],
            "text/html": [
              "\n",
              "  <div id=\"df-856ffd90-1de6-4261-af47-2e9de55ec117\">\n",
              "    <div class=\"colab-df-container\">\n",
              "      <div>\n",
              "<style scoped>\n",
              "    .dataframe tbody tr th:only-of-type {\n",
              "        vertical-align: middle;\n",
              "    }\n",
              "\n",
              "    .dataframe tbody tr th {\n",
              "        vertical-align: top;\n",
              "    }\n",
              "\n",
              "    .dataframe thead th {\n",
              "        text-align: right;\n",
              "    }\n",
              "</style>\n",
              "<table border=\"1\" class=\"dataframe\">\n",
              "  <thead>\n",
              "    <tr style=\"text-align: right;\">\n",
              "      <th></th>\n",
              "      <th>Years</th>\n",
              "      <th>Population Growth</th>\n",
              "    </tr>\n",
              "  </thead>\n",
              "  <tbody>\n",
              "    <tr>\n",
              "      <th>0</th>\n",
              "      <td>1955</td>\n",
              "      <td>2.98</td>\n",
              "    </tr>\n",
              "    <tr>\n",
              "      <th>1</th>\n",
              "      <td>1960</td>\n",
              "      <td>3.34</td>\n",
              "    </tr>\n",
              "    <tr>\n",
              "      <th>2</th>\n",
              "      <td>1965</td>\n",
              "      <td>3.63</td>\n",
              "    </tr>\n",
              "    <tr>\n",
              "      <th>3</th>\n",
              "      <td>1970</td>\n",
              "      <td>3.30</td>\n",
              "    </tr>\n",
              "    <tr>\n",
              "      <th>4</th>\n",
              "      <td>1975</td>\n",
              "      <td>2.72</td>\n",
              "    </tr>\n",
              "    <tr>\n",
              "      <th>5</th>\n",
              "      <td>1980</td>\n",
              "      <td>2.73</td>\n",
              "    </tr>\n",
              "    <tr>\n",
              "      <th>6</th>\n",
              "      <td>1985</td>\n",
              "      <td>2.53</td>\n",
              "    </tr>\n",
              "    <tr>\n",
              "      <th>7</th>\n",
              "      <td>1990</td>\n",
              "      <td>2.41</td>\n",
              "    </tr>\n",
              "    <tr>\n",
              "      <th>8</th>\n",
              "      <td>1995</td>\n",
              "      <td>2.04</td>\n",
              "    </tr>\n",
              "    <tr>\n",
              "      <th>9</th>\n",
              "      <td>2000</td>\n",
              "      <td>1.47</td>\n",
              "    </tr>\n",
              "    <tr>\n",
              "      <th>10</th>\n",
              "      <td>2005</td>\n",
              "      <td>1.34</td>\n",
              "    </tr>\n",
              "    <tr>\n",
              "      <th>11</th>\n",
              "      <td>2010</td>\n",
              "      <td>1.60</td>\n",
              "    </tr>\n",
              "    <tr>\n",
              "      <th>12</th>\n",
              "      <td>2015</td>\n",
              "      <td>1.65</td>\n",
              "    </tr>\n",
              "    <tr>\n",
              "      <th>13</th>\n",
              "      <td>2020</td>\n",
              "      <td>1.48</td>\n",
              "    </tr>\n",
              "  </tbody>\n",
              "</table>\n",
              "</div>\n",
              "      <button class=\"colab-df-convert\" onclick=\"convertToInteractive('df-856ffd90-1de6-4261-af47-2e9de55ec117')\"\n",
              "              title=\"Convert this dataframe to an interactive table.\"\n",
              "              style=\"display:none;\">\n",
              "        \n",
              "  <svg xmlns=\"http://www.w3.org/2000/svg\" height=\"24px\"viewBox=\"0 0 24 24\"\n",
              "       width=\"24px\">\n",
              "    <path d=\"M0 0h24v24H0V0z\" fill=\"none\"/>\n",
              "    <path d=\"M18.56 5.44l.94 2.06.94-2.06 2.06-.94-2.06-.94-.94-2.06-.94 2.06-2.06.94zm-11 1L8.5 8.5l.94-2.06 2.06-.94-2.06-.94L8.5 2.5l-.94 2.06-2.06.94zm10 10l.94 2.06.94-2.06 2.06-.94-2.06-.94-.94-2.06-.94 2.06-2.06.94z\"/><path d=\"M17.41 7.96l-1.37-1.37c-.4-.4-.92-.59-1.43-.59-.52 0-1.04.2-1.43.59L10.3 9.45l-7.72 7.72c-.78.78-.78 2.05 0 2.83L4 21.41c.39.39.9.59 1.41.59.51 0 1.02-.2 1.41-.59l7.78-7.78 2.81-2.81c.8-.78.8-2.07 0-2.86zM5.41 20L4 18.59l7.72-7.72 1.47 1.35L5.41 20z\"/>\n",
              "  </svg>\n",
              "      </button>\n",
              "      \n",
              "  <style>\n",
              "    .colab-df-container {\n",
              "      display:flex;\n",
              "      flex-wrap:wrap;\n",
              "      gap: 12px;\n",
              "    }\n",
              "\n",
              "    .colab-df-convert {\n",
              "      background-color: #E8F0FE;\n",
              "      border: none;\n",
              "      border-radius: 50%;\n",
              "      cursor: pointer;\n",
              "      display: none;\n",
              "      fill: #1967D2;\n",
              "      height: 32px;\n",
              "      padding: 0 0 0 0;\n",
              "      width: 32px;\n",
              "    }\n",
              "\n",
              "    .colab-df-convert:hover {\n",
              "      background-color: #E2EBFA;\n",
              "      box-shadow: 0px 1px 2px rgba(60, 64, 67, 0.3), 0px 1px 3px 1px rgba(60, 64, 67, 0.15);\n",
              "      fill: #174EA6;\n",
              "    }\n",
              "\n",
              "    [theme=dark] .colab-df-convert {\n",
              "      background-color: #3B4455;\n",
              "      fill: #D2E3FC;\n",
              "    }\n",
              "\n",
              "    [theme=dark] .colab-df-convert:hover {\n",
              "      background-color: #434B5C;\n",
              "      box-shadow: 0px 1px 3px 1px rgba(0, 0, 0, 0.15);\n",
              "      filter: drop-shadow(0px 1px 2px rgba(0, 0, 0, 0.3));\n",
              "      fill: #FFFFFF;\n",
              "    }\n",
              "  </style>\n",
              "\n",
              "      <script>\n",
              "        const buttonEl =\n",
              "          document.querySelector('#df-856ffd90-1de6-4261-af47-2e9de55ec117 button.colab-df-convert');\n",
              "        buttonEl.style.display =\n",
              "          google.colab.kernel.accessAllowed ? 'block' : 'none';\n",
              "\n",
              "        async function convertToInteractive(key) {\n",
              "          const element = document.querySelector('#df-856ffd90-1de6-4261-af47-2e9de55ec117');\n",
              "          const dataTable =\n",
              "            await google.colab.kernel.invokeFunction('convertToInteractive',\n",
              "                                                     [key], {});\n",
              "          if (!dataTable) return;\n",
              "\n",
              "          const docLinkHtml = 'Like what you see? Visit the ' +\n",
              "            '<a target=\"_blank\" href=https://colab.research.google.com/notebooks/data_table.ipynb>data table notebook</a>'\n",
              "            + ' to learn more about interactive tables.';\n",
              "          element.innerHTML = '';\n",
              "          dataTable['output_type'] = 'display_data';\n",
              "          await google.colab.output.renderOutput(dataTable, element);\n",
              "          const docLink = document.createElement('div');\n",
              "          docLink.innerHTML = docLinkHtml;\n",
              "          element.appendChild(docLink);\n",
              "        }\n",
              "      </script>\n",
              "    </div>\n",
              "  </div>\n",
              "  "
            ]
          },
          "metadata": {},
          "execution_count": 86
        }
      ]
    },
    {
      "cell_type": "code",
      "source": [
        "data2=np.array(data2)\n",
        "x2=data2[:,0]/1000\n",
        "y2=data2[:,1]\n",
        "print(x2)\n",
        "print(y2)"
      ],
      "metadata": {
        "colab": {
          "base_uri": "https://localhost:8080/"
        },
        "id": "9Vo5h_I_rScz",
        "outputId": "4747ad2b-b401-42ee-f754-c75db2bb4c5d"
      },
      "execution_count": 87,
      "outputs": [
        {
          "output_type": "stream",
          "name": "stdout",
          "text": [
            "[1.955 1.96  1.965 1.97  1.975 1.98  1.985 1.99  1.995 2.    2.005 2.01\n",
            " 2.015 2.02 ]\n",
            "[2.98 3.34 3.63 3.3  2.72 2.73 2.53 2.41 2.04 1.47 1.34 1.6  1.65 1.48]\n"
          ]
        }
      ]
    },
    {
      "cell_type": "code",
      "source": [
        "plt.scatter(x2,y2)"
      ],
      "metadata": {
        "colab": {
          "base_uri": "https://localhost:8080/",
          "height": 447
        },
        "id": "w7Nz8lJwrp9-",
        "outputId": "9d5e1783-d648-40f2-9dc0-86a5f0f6cc36"
      },
      "execution_count": 88,
      "outputs": [
        {
          "output_type": "execute_result",
          "data": {
            "text/plain": [
              "<matplotlib.collections.PathCollection at 0x7f25f11262f0>"
            ]
          },
          "metadata": {},
          "execution_count": 88
        },
        {
          "output_type": "display_data",
          "data": {
            "text/plain": [
              "<Figure size 640x480 with 1 Axes>"
            ],
            "image/png": "[encoded data removed]"
          },
          "metadata": {}
        }
      ]
    },
    {
      "cell_type": "code",
      "source": [
        "n=len(x2)\n",
        "l=0.2\n",
        "loss_data=[]\n",
        "epoch=30000\n",
        "w=10\n",
        "b=15\n",
        "for i in range(epoch):\n",
        "  y_hat=x2*w+b\n",
        "  mse=np.mean(np.abs(y2-y_hat)**2)\n",
        "  loss_data.append(mse)\n",
        "  Dw=(-2/n)*np.sum(x2*(y2-y_hat))\n",
        "  Db=(-2/n)*np.sum(y2-y_hat)\n",
        "  w=w-Dw*l\n",
        "  b=b-Db*l\n",
        "plt.show()\n",
        "print(f\"loss:{mse}\")\n",
        "print(f\"w:{w} b:{b}\")"
      ],
      "metadata": {
        "colab": {
          "base_uri": "https://localhost:8080/"
        },
        "id": "uJeyjjb8rvbi",
        "outputId": "7f578c36-072c-4f98-8892-34cf4f5504db"
      },
      "execution_count": 101,
      "outputs": [
        {
          "output_type": "stream",
          "name": "stdout",
          "text": [
            "loss:0.13845208659523486\n",
            "w:-22.762308434297207 b:47.61102825474594\n"
          ]
        }
      ]
    },
    {
      "cell_type": "code",
      "source": [
        "plt.scatter(x2,y2)\n",
        "plt.scatter(x2,y_hat,c=\"r\")"
      ],
      "metadata": {
        "colab": {
          "base_uri": "https://localhost:8080/",
          "height": 447
        },
        "id": "toWJwnOouz54",
        "outputId": "bba36907-7be6-4f26-e725-5451cee02e67"
      },
      "execution_count": 102,
      "outputs": [
        {
          "output_type": "execute_result",
          "data": {
            "text/plain": [
              "<matplotlib.collections.PathCollection at 0x7f25f0b4c670>"
            ]
          },
          "metadata": {},
          "execution_count": 102
        },
        {
          "output_type": "display_data",
          "data": {
            "text/plain": [
              "<Figure size 640x480 with 1 Axes>"
            ],
            "image/png": "[encoded data removed]"
          },
          "metadata": {}
        }
      ]
    },
    {
      "cell_type": "code",
      "source": [
        "plt.plot(loss_data)"
      ],
      "metadata": {
        "id": "SzMnYfGTZa2q",
        "outputId": "33a4daf2-5ba9-4579-d046-d9966a9bd3c8",
        "colab": {
          "base_uri": "https://localhost:8080/",
          "height": 447
        }
      },
      "execution_count": 103,
      "outputs": [
        {
          "output_type": "execute_result",
          "data": {
            "text/plain": [
              "[<matplotlib.lines.Line2D at 0x7f25f0caaef0>]"
            ]
          },
          "metadata": {},
          "execution_count": 103
        },
        {
          "output_type": "display_data",
          "data": {
            "text/plain": [
              "<Figure size 640x480 with 1 Axes>"
            ],
            "image/png": "[encoded data removed]"
          },
          "metadata": {}
        }
      ]
    },
    {
      "cell_type": "code",
      "source": [
        "t=0.3\n",
        "test_x2,test_y2=x2[:int(len(x2)*t)],y2[:int(len(y2)*t)]\n",
        "print(len(x2))\n",
        "print(len(test_x2))"
      ],
      "metadata": {
        "colab": {
          "base_uri": "https://localhost:8080/"
        },
        "id": "524qgFV9sCn1",
        "outputId": "45040017-4dff-4250-eb6b-38e7c2d2183d"
      },
      "execution_count": 104,
      "outputs": [
        {
          "output_type": "stream",
          "name": "stdout",
          "text": [
            "14\n",
            "4\n"
          ]
        }
      ]
    },
    {
      "cell_type": "code",
      "source": [
        "n=len(test_x2)\n",
        "l=0.2\n",
        "loss_data=[]\n",
        "epoch=500\n",
        "w=10\n",
        "b=15\n",
        "for i in range(epoch):\n",
        "  y_hat=test_x2*w+b\n",
        "  mse=np.mean(np.abs(test_y2-y_hat)**2)\n",
        "  loss_data.append(mse)\n",
        "  Dw=(-2/n)*np.sum(test_x2*(test_y2-y_hat))\n",
        "  Db=(-2/n)*np.sum(test_y2-y_hat)\n",
        "  w=w-Dw*l\n",
        "  b=b-Db*l\n",
        "plt.show()\n",
        "print(f\"loss:{mse}\")\n",
        "print(f\"Dw:{Dw} Db:{Db}\")"
      ],
      "metadata": {
        "colab": {
          "base_uri": "https://localhost:8080/"
        },
        "id": "G-K60le1t4h_",
        "outputId": "d4c9589c-077f-4e50-ba47-9064232dd68d"
      },
      "execution_count": 107,
      "outputs": [
        {
          "output_type": "stream",
          "name": "stdout",
          "text": [
            "loss:0.05739598681782263\n",
            "Dw:-0.00035596351590785804 Db:0.0006985828837831054\n"
          ]
        }
      ]
    },
    {
      "cell_type": "code",
      "source": [
        "plt.scatter(x2,y2)\n",
        "plt.scatter(test_x2,y_hat,c='r')"
      ],
      "metadata": {
        "colab": {
          "base_uri": "https://localhost:8080/",
          "height": 447
        },
        "id": "abj4tILOv3CK",
        "outputId": "576bb0ac-1789-446d-c69f-4fc54b9abff5"
      },
      "execution_count": 108,
      "outputs": [
        {
          "output_type": "execute_result",
          "data": {
            "text/plain": [
              "<matplotlib.collections.PathCollection at 0x7f25f0525930>"
            ]
          },
          "metadata": {},
          "execution_count": 108
        },
        {
          "output_type": "display_data",
          "data": {
            "text/plain": [
              "<Figure size 640x480 with 1 Axes>"
            ],
            "image/png": "[encoded data removed]"
          },
          "metadata": {}
        }
      ]
    },
    {
      "cell_type": "code",
      "source": [
        "plt.plot(loss_data)"
      ],
      "metadata": {
        "id": "oU2lgu7XZkXE",
        "outputId": "72e85bcf-6719-4aa2-f588-1e54f9ac062e",
        "colab": {
          "base_uri": "https://localhost:8080/",
          "height": 447
        }
      },
      "execution_count": 109,
      "outputs": [
        {
          "output_type": "execute_result",
          "data": {
            "text/plain": [
              "[<matplotlib.lines.Line2D at 0x7f25f0516620>]"
            ]
          },
          "metadata": {},
          "execution_count": 109
        },
        {
          "output_type": "display_data",
          "data": {
            "text/plain": [
              "<Figure size 640x480 with 1 Axes>"
            ],
            "image/png": "[encoded data removed]"
          },
          "metadata": {}
        }
      ]
    },
    {
      "cell_type": "code",
      "source": [
        "y_hat=test_x2[3]*w+b\n",
        "print(test_x2[3])\n",
        "print(y_hat)"
      ],
      "metadata": {
        "colab": {
          "base_uri": "https://localhost:8080/"
        },
        "id": "gbjwiXMlRs_P",
        "outputId": "0b049bcd-e360-46d3-85dd-a7f6bb762d74"
      },
      "execution_count": 110,
      "outputs": [
        {
          "output_type": "stream",
          "name": "stdout",
          "text": [
            "1.97\n",
            "3.2931179334505334\n"
          ]
        }
      ]
    },
    {
      "cell_type": "markdown",
      "source": [
        "#Data3"
      ],
      "metadata": {
        "id": "B7WVtnqax2_x"
      }
    },
    {
      "cell_type": "markdown",
      "source": [
        "sugurta qilish uchun kelgan moshinaga qarab narxini o'sishi"
      ],
      "metadata": {
        "id": "gU4PK9tJOdJJ"
      }
    },
    {
      "cell_type": "code",
      "source": [
        "data3=pd.read_csv(\"https://query.data.world/s/o5s7ttqgqz3ou4kc77iaw2osyzgsqp?dws=00000\")"
      ],
      "metadata": {
        "id": "4swZvWWTx5WO"
      },
      "execution_count": 111,
      "outputs": []
    },
    {
      "cell_type": "code",
      "source": [
        "data3"
      ],
      "metadata": {
        "colab": {
          "base_uri": "https://localhost:8080/",
          "height": 424
        },
        "id": "hvgpjtbOx73u",
        "outputId": "504c641c-4b1e-4286-b13a-3d4e829e4965"
      },
      "execution_count": 112,
      "outputs": [
        {
          "output_type": "execute_result",
          "data": {
            "text/plain": [
              "    108  392.5\n",
              "0    19   46.2\n",
              "1    13   15.7\n",
              "2   124  422.2\n",
              "3    40  119.4\n",
              "4    57  170.9\n",
              "..  ...    ...\n",
              "57    9   87.4\n",
              "58   31  209.8\n",
              "59   14   95.5\n",
              "60   53  244.6\n",
              "61   26  187.5\n",
              "\n",
              "[62 rows x 2 columns]"
            ],
            "text/html": [
              "\n",
              "  <div id=\"df-33619b4f-1fda-4582-8f88-0049c4d016b1\">\n",
              "    <div class=\"colab-df-container\">\n",
              "      <div>\n",
              "<style scoped>\n",
              "    .dataframe tbody tr th:only-of-type {\n",
              "        vertical-align: middle;\n",
              "    }\n",
              "\n",
              "    .dataframe tbody tr th {\n",
              "        vertical-align: top;\n",
              "    }\n",
              "\n",
              "    .dataframe thead th {\n",
              "        text-align: right;\n",
              "    }\n",
              "</style>\n",
              "<table border=\"1\" class=\"dataframe\">\n",
              "  <thead>\n",
              "    <tr style=\"text-align: right;\">\n",
              "      <th></th>\n",
              "      <th>108</th>\n",
              "      <th>392.5</th>\n",
              "    </tr>\n",
              "  </thead>\n",
              "  <tbody>\n",
              "    <tr>\n",
              "      <th>0</th>\n",
              "      <td>19</td>\n",
              "      <td>46.2</td>\n",
              "    </tr>\n",
              "    <tr>\n",
              "      <th>1</th>\n",
              "      <td>13</td>\n",
              "      <td>15.7</td>\n",
              "    </tr>\n",
              "    <tr>\n",
              "      <th>2</th>\n",
              "      <td>124</td>\n",
              "      <td>422.2</td>\n",
              "    </tr>\n",
              "    <tr>\n",
              "      <th>3</th>\n",
              "      <td>40</td>\n",
              "      <td>119.4</td>\n",
              "    </tr>\n",
              "    <tr>\n",
              "      <th>4</th>\n",
              "      <td>57</td>\n",
              "      <td>170.9</td>\n",
              "    </tr>\n",
              "    <tr>\n",
              "      <th>...</th>\n",
              "      <td>...</td>\n",
              "      <td>...</td>\n",
              "    </tr>\n",
              "    <tr>\n",
              "      <th>57</th>\n",
              "      <td>9</td>\n",
              "      <td>87.4</td>\n",
              "    </tr>\n",
              "    <tr>\n",
              "      <th>58</th>\n",
              "      <td>31</td>\n",
              "      <td>209.8</td>\n",
              "    </tr>\n",
              "    <tr>\n",
              "      <th>59</th>\n",
              "      <td>14</td>\n",
              "      <td>95.5</td>\n",
              "    </tr>\n",
              "    <tr>\n",
              "      <th>60</th>\n",
              "      <td>53</td>\n",
              "      <td>244.6</td>\n",
              "    </tr>\n",
              "    <tr>\n",
              "      <th>61</th>\n",
              "      <td>26</td>\n",
              "      <td>187.5</td>\n",
              "    </tr>\n",
              "  </tbody>\n",
              "</table>\n",
              "<p>62 rows × 2 columns</p>\n",
              "</div>\n",
              "      <button class=\"colab-df-convert\" onclick=\"convertToInteractive('df-33619b4f-1fda-4582-8f88-0049c4d016b1')\"\n",
              "              title=\"Convert this dataframe to an interactive table.\"\n",
              "              style=\"display:none;\">\n",
              "        \n",
              "  <svg xmlns=\"http://www.w3.org/2000/svg\" height=\"24px\"viewBox=\"0 0 24 24\"\n",
              "       width=\"24px\">\n",
              "    <path d=\"M0 0h24v24H0V0z\" fill=\"none\"/>\n",
              "    <path d=\"M18.56 5.44l.94 2.06.94-2.06 2.06-.94-2.06-.94-.94-2.06-.94 2.06-2.06.94zm-11 1L8.5 8.5l.94-2.06 2.06-.94-2.06-.94L8.5 2.5l-.94 2.06-2.06.94zm10 10l.94 2.06.94-2.06 2.06-.94-2.06-.94-.94-2.06-.94 2.06-2.06.94z\"/><path d=\"M17.41 7.96l-1.37-1.37c-.4-.4-.92-.59-1.43-.59-.52 0-1.04.2-1.43.59L10.3 9.45l-7.72 7.72c-.78.78-.78 2.05 0 2.83L4 21.41c.39.39.9.59 1.41.59.51 0 1.02-.2 1.41-.59l7.78-7.78 2.81-2.81c.8-.78.8-2.07 0-2.86zM5.41 20L4 18.59l7.72-7.72 1.47 1.35L5.41 20z\"/>\n",
              "  </svg>\n",
              "      </button>\n",
              "      \n",
              "  <style>\n",
              "    .colab-df-container {\n",
              "      display:flex;\n",
              "      flex-wrap:wrap;\n",
              "      gap: 12px;\n",
              "    }\n",
              "\n",
              "    .colab-df-convert {\n",
              "      background-color: #E8F0FE;\n",
              "      border: none;\n",
              "      border-radius: 50%;\n",
              "      cursor: pointer;\n",
              "      display: none;\n",
              "      fill: #1967D2;\n",
              "      height: 32px;\n",
              "      padding: 0 0 0 0;\n",
              "      width: 32px;\n",
              "    }\n",
              "\n",
              "    .colab-df-convert:hover {\n",
              "      background-color: #E2EBFA;\n",
              "      box-shadow: 0px 1px 2px rgba(60, 64, 67, 0.3), 0px 1px 3px 1px rgba(60, 64, 67, 0.15);\n",
              "      fill: #174EA6;\n",
              "    }\n",
              "\n",
              "    [theme=dark] .colab-df-convert {\n",
              "      background-color: #3B4455;\n",
              "      fill: #D2E3FC;\n",
              "    }\n",
              "\n",
              "    [theme=dark] .colab-df-convert:hover {\n",
              "      background-color: #434B5C;\n",
              "      box-shadow: 0px 1px 3px 1px rgba(0, 0, 0, 0.15);\n",
              "      filter: drop-shadow(0px 1px 2px rgba(0, 0, 0, 0.3));\n",
              "      fill: #FFFFFF;\n",
              "    }\n",
              "  </style>\n",
              "\n",
              "      <script>\n",
              "        const buttonEl =\n",
              "          document.querySelector('#df-33619b4f-1fda-4582-8f88-0049c4d016b1 button.colab-df-convert');\n",
              "        buttonEl.style.display =\n",
              "          google.colab.kernel.accessAllowed ? 'block' : 'none';\n",
              "\n",
              "        async function convertToInteractive(key) {\n",
              "          const element = document.querySelector('#df-33619b4f-1fda-4582-8f88-0049c4d016b1');\n",
              "          const dataTable =\n",
              "            await google.colab.kernel.invokeFunction('convertToInteractive',\n",
              "                                                     [key], {});\n",
              "          if (!dataTable) return;\n",
              "\n",
              "          const docLinkHtml = 'Like what you see? Visit the ' +\n",
              "            '<a target=\"_blank\" href=https://colab.research.google.com/notebooks/data_table.ipynb>data table notebook</a>'\n",
              "            + ' to learn more about interactive tables.';\n",
              "          element.innerHTML = '';\n",
              "          dataTable['output_type'] = 'display_data';\n",
              "          await google.colab.output.renderOutput(dataTable, element);\n",
              "          const docLink = document.createElement('div');\n",
              "          docLink.innerHTML = docLinkHtml;\n",
              "          element.appendChild(docLink);\n",
              "        }\n",
              "      </script>\n",
              "    </div>\n",
              "  </div>\n",
              "  "
            ]
          },
          "metadata": {},
          "execution_count": 112
        }
      ]
    },
    {
      "cell_type": "code",
      "source": [
        "data3=np.array(data3)\n",
        "x3=data3[:,0]/10\n",
        "y3=data3[:,1]/10\n",
        "print(x3)\n",
        "print(y3)"
      ],
      "metadata": {
        "colab": {
          "base_uri": "https://localhost:8080/"
        },
        "id": "o2rEN3TDx-Pd",
        "outputId": "cb973ef9-0481-45ff-d3a0-1887091cbef3"
      },
      "execution_count": 113,
      "outputs": [
        {
          "output_type": "stream",
          "name": "stdout",
          "text": [
            "[ 1.9  1.3 12.4  4.   5.7  2.3  1.4  4.5  1.   0.5  4.8  1.1  2.3  0.7\n",
            "  0.2  2.4  0.6  0.3  2.3  0.6  0.9  0.9  0.3  2.9  0.7  0.4  2.   0.7\n",
            "  0.4  0.   2.5  0.6  0.5  2.2  1.1  6.1  1.2  0.4  1.6  1.3  6.   4.1\n",
            "  3.7  5.5  4.1  1.1  2.7  0.8  0.3  1.7  1.3  1.3  1.5  0.8  2.9  3.\n",
            "  2.4  0.9  3.1  1.4  5.3  2.6]\n",
            "[ 4.62  1.57 42.22 11.94 17.09  5.69  7.75 21.4   6.53  2.09 24.81  2.35\n",
            "  3.96  4.88  0.66 13.49  5.09  0.44 11.3   1.48  4.87  5.21  1.32 10.39\n",
            "  7.75  1.18  9.81  2.79  3.81  0.    6.92  1.46  4.03 16.15  5.72 21.76\n",
            "  5.81  1.26  5.96  8.99 20.24 18.13 15.28 16.28  7.34  2.13  9.26  7.61\n",
            "  3.99 14.21  9.3   3.19  3.21  5.56 13.33 19.45 13.79  8.74 20.98  9.55\n",
            " 24.46 18.75]\n"
          ]
        }
      ]
    },
    {
      "cell_type": "code",
      "source": [
        "plt.scatter(x3,y3)"
      ],
      "metadata": {
        "colab": {
          "base_uri": "https://localhost:8080/",
          "height": 447
        },
        "id": "6E5Lxk0PyVgr",
        "outputId": "42e0ff24-f9ca-4f5b-d9aa-7fcc1bf6827e"
      },
      "execution_count": 114,
      "outputs": [
        {
          "output_type": "execute_result",
          "data": {
            "text/plain": [
              "<matplotlib.collections.PathCollection at 0x7f25f0531ba0>"
            ]
          },
          "metadata": {},
          "execution_count": 114
        },
        {
          "output_type": "display_data",
          "data": {
            "text/plain": [
              "<Figure size 640x480 with 1 Axes>"
            ],
            "image/png": "[encoded data removed]"
          },
          "metadata": {}
        }
      ]
    },
    {
      "cell_type": "code",
      "source": [
        "n=len(x3)\n",
        "l=0.01\n",
        "loss_data=[]\n",
        "epoch=50000\n",
        "w=10\n",
        "b=15\n",
        "for i in range(epoch):\n",
        "  y_hat=x3*w+b\n",
        "  mse=np.mean(np.abs(y3-y_hat)**2)\n",
        "  loss_data.append(mse)\n",
        "  Dw=(-2/n)*np.sum(x3*(y3-y_hat))\n",
        "  Db=(-2/n)*np.sum(y3-y_hat)\n",
        "  w=w-Dw*l\n",
        "  b=b-Db*l\n",
        "plt.show()\n",
        "print(f\"loss:{mse}\")\n",
        "print(f\"w:{w} b:{b}\")"
      ],
      "metadata": {
        "colab": {
          "base_uri": "https://localhost:8080/"
        },
        "id": "SXkIa5Ltya1-",
        "outputId": "50f73c73-bbdc-4ad3-9365-caccaf9f2f63"
      },
      "execution_count": 116,
      "outputs": [
        {
          "output_type": "stream",
          "name": "stdout",
          "text": [
            "loss:12.706106904753236\n",
            "w:3.401360557906173 b:2.0201349277342993\n"
          ]
        }
      ]
    },
    {
      "cell_type": "code",
      "source": [
        "plt.scatter(x3,y3)\n",
        "plt.scatter(x3,y_hat,c=\"r\")"
      ],
      "metadata": {
        "colab": {
          "base_uri": "https://localhost:8080/",
          "height": 447
        },
        "id": "dHJh3XpoHU1C",
        "outputId": "8ee50e1e-80ef-45d4-d6de-f9ccbc9e15ec"
      },
      "execution_count": 117,
      "outputs": [
        {
          "output_type": "execute_result",
          "data": {
            "text/plain": [
              "<matplotlib.collections.PathCollection at 0x7f25f0733ac0>"
            ]
          },
          "metadata": {},
          "execution_count": 117
        },
        {
          "output_type": "display_data",
          "data": {
            "text/plain": [
              "<Figure size 640x480 with 1 Axes>"
            ],
            "image/png": "[encoded data removed]"
          },
          "metadata": {}
        }
      ]
    },
    {
      "cell_type": "code",
      "source": [
        "plt.plot(loss_data)"
      ],
      "metadata": {
        "id": "WHRxyZPTZyo_",
        "outputId": "126b6852-bd5e-4daf-c67f-53282a4ec74b",
        "colab": {
          "base_uri": "https://localhost:8080/",
          "height": 447
        }
      },
      "execution_count": 118,
      "outputs": [
        {
          "output_type": "execute_result",
          "data": {
            "text/plain": [
              "[<matplotlib.lines.Line2D at 0x7f25f052bee0>]"
            ]
          },
          "metadata": {},
          "execution_count": 118
        },
        {
          "output_type": "display_data",
          "data": {
            "text/plain": [
              "<Figure size 640x480 with 1 Axes>"
            ],
            "image/png": "[encoded data removed]"
          },
          "metadata": {}
        }
      ]
    },
    {
      "cell_type": "code",
      "source": [
        "t=0.3\n",
        "test_x3,test_y3=x3[:int(len(x3)*t)],y3[:int(len(y3)*t)]"
      ],
      "metadata": {
        "id": "18UoQy1vGshT"
      },
      "execution_count": 119,
      "outputs": []
    },
    {
      "cell_type": "code",
      "source": [
        "n=len(test_x3)\n",
        "l=0.01\n",
        "loss_data=[]\n",
        "epoch=50000\n",
        "w=10\n",
        "b=15\n",
        "for i in range(epoch):\n",
        "  y_hat=test_x3*w+b\n",
        "  mse=np.mean(np.abs(test_y3-y_hat)**2)\n",
        "  loss_data.append(mse)\n",
        "  Dw=(-2/n)*np.sum(test_x3*(test_y3-y_hat))\n",
        "  Db=(-2/n)*np.sum(test_y3-y_hat)\n",
        "  w=w-Dw*l\n",
        "  b=b-Db*l\n",
        "plt.show()\n",
        "print(f\"loss:{mse}\")\n",
        "print(f\"w:{w} b:{b}\")"
      ],
      "metadata": {
        "colab": {
          "base_uri": "https://localhost:8080/"
        },
        "id": "JHBDtUxBHSMz",
        "outputId": "cdb4507a-5a8c-4593-eacb-9b22455554bb"
      },
      "execution_count": 121,
      "outputs": [
        {
          "output_type": "stream",
          "name": "stdout",
          "text": [
            "loss:11.082869123729171\n",
            "w:3.466628316188411 b:0.6812121007038534\n"
          ]
        }
      ]
    },
    {
      "cell_type": "code",
      "source": [
        "plt.scatter(x3,y3)\n",
        "plt.scatter(test_x3,y_hat,c=\"r\")"
      ],
      "metadata": {
        "colab": {
          "base_uri": "https://localhost:8080/",
          "height": 447
        },
        "id": "jSIxFfttHwQ9",
        "outputId": "d3b51de6-c3ae-4114-9315-52d4fa228778"
      },
      "execution_count": 122,
      "outputs": [
        {
          "output_type": "execute_result",
          "data": {
            "text/plain": [
              "<matplotlib.collections.PathCollection at 0x7f25f0233670>"
            ]
          },
          "metadata": {},
          "execution_count": 122
        },
        {
          "output_type": "display_data",
          "data": {
            "text/plain": [
              "<Figure size 640x480 with 1 Axes>"
            ],
            "image/png": "[encoded data removed]"
          },
          "metadata": {}
        }
      ]
    },
    {
      "cell_type": "code",
      "source": [
        "y_hat=test_x3[5]*w+b\n",
        "print(test_x3[5])\n",
        "print(y_hat)"
      ],
      "metadata": {
        "colab": {
          "base_uri": "https://localhost:8080/"
        },
        "id": "YIiNBRtTSTQY",
        "outputId": "f2f2c6e8-6673-4675-a889-2a59380e2260"
      },
      "execution_count": 123,
      "outputs": [
        {
          "output_type": "stream",
          "name": "stdout",
          "text": [
            "2.3\n",
            "8.654457227937199\n"
          ]
        }
      ]
    },
    {
      "cell_type": "markdown",
      "source": [
        "#DATA4"
      ],
      "metadata": {
        "id": "DZajIvf9MHlF"
      }
    },
    {
      "cell_type": "markdown",
      "source": [
        "yoshiga qarab moshini topish"
      ],
      "metadata": {
        "id": "r_XPqNTrNVNd"
      }
    },
    {
      "cell_type": "code",
      "source": [
        "df = pd.read_csv('https://query.data.world/s/tx4vayd47imscpay22iyfruceohtvk?dws=00000')"
      ],
      "metadata": {
        "id": "vXmb32QIFTCb"
      },
      "execution_count": 124,
      "outputs": []
    },
    {
      "cell_type": "code",
      "source": [
        "df"
      ],
      "metadata": {
        "colab": {
          "base_uri": "https://localhost:8080/",
          "height": 589
        },
        "id": "1cts0FAcFVjI",
        "outputId": "d7a1a28e-8cb7-4672-fc43-84bf656aae5f"
      },
      "execution_count": 125,
      "outputs": [
        {
          "output_type": "execute_result",
          "data": {
            "text/plain": [
              "                        name  age     sex  \\\n",
              "0             Aaron, Dayan M   38    Male   \n",
              "1           Aaron, Freddie L   52    Male   \n",
              "2            Aaron, Tyrone M   44    Male   \n",
              "3            Abazenab, Kokeb   42  Female   \n",
              "4      Abbott, Christopher D   32    Male   \n",
              "...                      ...  ...     ...   \n",
              "8241  Zewu Attipoe, Joshua W   32    Male   \n",
              "8242         Zhang, Jianrong   53    Male   \n",
              "8243       Zimbrick, Brett A   54    Male   \n",
              "8244           Zorn, Aaron A   36    Male   \n",
              "8245        Zygaj, Stephen M   53    Male   \n",
              "\n",
              "                                          ethnic.origin  \\\n",
              "0     Black or African American (Not Hispanic or Lat...   \n",
              "1     Black or African American (Not Hispanic or Lat...   \n",
              "2     Black or African American (Not Hispanic or Lat...   \n",
              "3     Black or African American (Not Hispanic or Lat...   \n",
              "4                        White (Not Hispanic or Latino)   \n",
              "...                                                 ...   \n",
              "8241  Black or African American (Not Hispanic or Lat...   \n",
              "8242                     Asian (Not Hispanic or Latino)   \n",
              "8243                     White (Not Hispanic or Latino)   \n",
              "8244                     White (Not Hispanic or Latino)   \n",
              "8245                     White (Not Hispanic or Latino)   \n",
              "\n",
              "                                  job.title  \\\n",
              "0                          ATL311 Team Lead   \n",
              "1        Environmental Service Worker I (D)   \n",
              "2             Watershed Crew Supervisor (D)   \n",
              "3               Benefits Representative, Sr   \n",
              "4           Recreation Operations Assistant   \n",
              "...                                     ...   \n",
              "8241              Pollution Control Monitor   \n",
              "8242                         IT Manager, Sr   \n",
              "8243        Police Investigator (E) (F) (O)   \n",
              "8244        Police Investigator (E) (F) (O)   \n",
              "8245  Police Lieutenant (E) (F) (O) (B) (S)   \n",
              "\n",
              "                                   organization  annual.salary  \n",
              "0                         EXE Executive Offices       45999.99  \n",
              "1                DPW Department of Public Works       26700.10  \n",
              "2        DWM Department of Watershed Management       46575.01  \n",
              "3              DHR Department of Human Reources       42866.89  \n",
              "4     PRC Parks, Recreation, & Cultural Affairs       28035.05  \n",
              "...                                         ...            ...  \n",
              "8241     DWM Department of Watershed Management       42849.05  \n",
              "8242     DWM Department of Watershed Management      101744.51  \n",
              "8243              APD Atlanta Police Department       62582.62  \n",
              "8244              APD Atlanta Police Department       46377.97  \n",
              "8245              APD Atlanta Police Department       75950.01  \n",
              "\n",
              "[8246 rows x 7 columns]"
            ],
            "text/html": [
              "\n",
              "  <div id=\"df-74b44d5e-1fde-4f90-ad54-580f2074e49a\">\n",
              "    <div class=\"colab-df-container\">\n",
              "      <div>\n",
              "<style scoped>\n",
              "    .dataframe tbody tr th:only-of-type {\n",
              "        vertical-align: middle;\n",
              "    }\n",
              "\n",
              "    .dataframe tbody tr th {\n",
              "        vertical-align: top;\n",
              "    }\n",
              "\n",
              "    .dataframe thead th {\n",
              "        text-align: right;\n",
              "    }\n",
              "</style>\n",
              "<table border=\"1\" class=\"dataframe\">\n",
              "  <thead>\n",
              "    <tr style=\"text-align: right;\">\n",
              "      <th></th>\n",
              "      <th>name</th>\n",
              "      <th>age</th>\n",
              "      <th>sex</th>\n",
              "      <th>ethnic.origin</th>\n",
              "      <th>job.title</th>\n",
              "      <th>organization</th>\n",
              "      <th>annual.salary</th>\n",
              "    </tr>\n",
              "  </thead>\n",
              "  <tbody>\n",
              "    <tr>\n",
              "      <th>0</th>\n",
              "      <td>Aaron, Dayan M</td>\n",
              "      <td>38</td>\n",
              "      <td>Male</td>\n",
              "      <td>Black or African American (Not Hispanic or Lat...</td>\n",
              "      <td>ATL311 Team Lead</td>\n",
              "      <td>EXE Executive Offices</td>\n",
              "      <td>45999.99</td>\n",
              "    </tr>\n",
              "    <tr>\n",
              "      <th>1</th>\n",
              "      <td>Aaron, Freddie L</td>\n",
              "      <td>52</td>\n",
              "      <td>Male</td>\n",
              "      <td>Black or African American (Not Hispanic or Lat...</td>\n",
              "      <td>Environmental Service Worker I (D)</td>\n",
              "      <td>DPW Department of Public Works</td>\n",
              "      <td>26700.10</td>\n",
              "    </tr>\n",
              "    <tr>\n",
              "      <th>2</th>\n",
              "      <td>Aaron, Tyrone M</td>\n",
              "      <td>44</td>\n",
              "      <td>Male</td>\n",
              "      <td>Black or African American (Not Hispanic or Lat...</td>\n",
              "      <td>Watershed Crew Supervisor (D)</td>\n",
              "      <td>DWM Department of Watershed Management</td>\n",
              "      <td>46575.01</td>\n",
              "    </tr>\n",
              "    <tr>\n",
              "      <th>3</th>\n",
              "      <td>Abazenab, Kokeb</td>\n",
              "      <td>42</td>\n",
              "      <td>Female</td>\n",
              "      <td>Black or African American (Not Hispanic or Lat...</td>\n",
              "      <td>Benefits Representative, Sr</td>\n",
              "      <td>DHR Department of Human Reources</td>\n",
              "      <td>42866.89</td>\n",
              "    </tr>\n",
              "    <tr>\n",
              "      <th>4</th>\n",
              "      <td>Abbott, Christopher D</td>\n",
              "      <td>32</td>\n",
              "      <td>Male</td>\n",
              "      <td>White (Not Hispanic or Latino)</td>\n",
              "      <td>Recreation Operations Assistant</td>\n",
              "      <td>PRC Parks, Recreation, &amp; Cultural Affairs</td>\n",
              "      <td>28035.05</td>\n",
              "    </tr>\n",
              "    <tr>\n",
              "      <th>...</th>\n",
              "      <td>...</td>\n",
              "      <td>...</td>\n",
              "      <td>...</td>\n",
              "      <td>...</td>\n",
              "      <td>...</td>\n",
              "      <td>...</td>\n",
              "      <td>...</td>\n",
              "    </tr>\n",
              "    <tr>\n",
              "      <th>8241</th>\n",
              "      <td>Zewu Attipoe, Joshua W</td>\n",
              "      <td>32</td>\n",
              "      <td>Male</td>\n",
              "      <td>Black or African American (Not Hispanic or Lat...</td>\n",
              "      <td>Pollution Control Monitor</td>\n",
              "      <td>DWM Department of Watershed Management</td>\n",
              "      <td>42849.05</td>\n",
              "    </tr>\n",
              "    <tr>\n",
              "      <th>8242</th>\n",
              "      <td>Zhang, Jianrong</td>\n",
              "      <td>53</td>\n",
              "      <td>Male</td>\n",
              "      <td>Asian (Not Hispanic or Latino)</td>\n",
              "      <td>IT Manager, Sr</td>\n",
              "      <td>DWM Department of Watershed Management</td>\n",
              "      <td>101744.51</td>\n",
              "    </tr>\n",
              "    <tr>\n",
              "      <th>8243</th>\n",
              "      <td>Zimbrick, Brett A</td>\n",
              "      <td>54</td>\n",
              "      <td>Male</td>\n",
              "      <td>White (Not Hispanic or Latino)</td>\n",
              "      <td>Police Investigator (E) (F) (O)</td>\n",
              "      <td>APD Atlanta Police Department</td>\n",
              "      <td>62582.62</td>\n",
              "    </tr>\n",
              "    <tr>\n",
              "      <th>8244</th>\n",
              "      <td>Zorn, Aaron A</td>\n",
              "      <td>36</td>\n",
              "      <td>Male</td>\n",
              "      <td>White (Not Hispanic or Latino)</td>\n",
              "      <td>Police Investigator (E) (F) (O)</td>\n",
              "      <td>APD Atlanta Police Department</td>\n",
              "      <td>46377.97</td>\n",
              "    </tr>\n",
              "    <tr>\n",
              "      <th>8245</th>\n",
              "      <td>Zygaj, Stephen M</td>\n",
              "      <td>53</td>\n",
              "      <td>Male</td>\n",
              "      <td>White (Not Hispanic or Latino)</td>\n",
              "      <td>Police Lieutenant (E) (F) (O) (B) (S)</td>\n",
              "      <td>APD Atlanta Police Department</td>\n",
              "      <td>75950.01</td>\n",
              "    </tr>\n",
              "  </tbody>\n",
              "</table>\n",
              "<p>8246 rows × 7 columns</p>\n",
              "</div>\n",
              "      <button class=\"colab-df-convert\" onclick=\"convertToInteractive('df-74b44d5e-1fde-4f90-ad54-580f2074e49a')\"\n",
              "              title=\"Convert this dataframe to an interactive table.\"\n",
              "              style=\"display:none;\">\n",
              "        \n",
              "  <svg xmlns=\"http://www.w3.org/2000/svg\" height=\"24px\"viewBox=\"0 0 24 24\"\n",
              "       width=\"24px\">\n",
              "    <path d=\"M0 0h24v24H0V0z\" fill=\"none\"/>\n",
              "    <path d=\"M18.56 5.44l.94 2.06.94-2.06 2.06-.94-2.06-.94-.94-2.06-.94 2.06-2.06.94zm-11 1L8.5 8.5l.94-2.06 2.06-.94-2.06-.94L8.5 2.5l-.94 2.06-2.06.94zm10 10l.94 2.06.94-2.06 2.06-.94-2.06-.94-.94-2.06-.94 2.06-2.06.94z\"/><path d=\"M17.41 7.96l-1.37-1.37c-.4-.4-.92-.59-1.43-.59-.52 0-1.04.2-1.43.59L10.3 9.45l-7.72 7.72c-.78.78-.78 2.05 0 2.83L4 21.41c.39.39.9.59 1.41.59.51 0 1.02-.2 1.41-.59l7.78-7.78 2.81-2.81c.8-.78.8-2.07 0-2.86zM5.41 20L4 18.59l7.72-7.72 1.47 1.35L5.41 20z\"/>\n",
              "  </svg>\n",
              "      </button>\n",
              "      \n",
              "  <style>\n",
              "    .colab-df-container {\n",
              "      display:flex;\n",
              "      flex-wrap:wrap;\n",
              "      gap: 12px;\n",
              "    }\n",
              "\n",
              "    .colab-df-convert {\n",
              "      background-color: #E8F0FE;\n",
              "      border: none;\n",
              "      border-radius: 50%;\n",
              "      cursor: pointer;\n",
              "      display: none;\n",
              "      fill: #1967D2;\n",
              "      height: 32px;\n",
              "      padding: 0 0 0 0;\n",
              "      width: 32px;\n",
              "    }\n",
              "\n",
              "    .colab-df-convert:hover {\n",
              "      background-color: #E2EBFA;\n",
              "      box-shadow: 0px 1px 2px rgba(60, 64, 67, 0.3), 0px 1px 3px 1px rgba(60, 64, 67, 0.15);\n",
              "      fill: #174EA6;\n",
              "    }\n",
              "\n",
              "    [theme=dark] .colab-df-convert {\n",
              "      background-color: #3B4455;\n",
              "      fill: #D2E3FC;\n",
              "    }\n",
              "\n",
              "    [theme=dark] .colab-df-convert:hover {\n",
              "      background-color: #434B5C;\n",
              "      box-shadow: 0px 1px 3px 1px rgba(0, 0, 0, 0.15);\n",
              "      filter: drop-shadow(0px 1px 2px rgba(0, 0, 0, 0.3));\n",
              "      fill: #FFFFFF;\n",
              "    }\n",
              "  </style>\n",
              "\n",
              "      <script>\n",
              "        const buttonEl =\n",
              "          document.querySelector('#df-74b44d5e-1fde-4f90-ad54-580f2074e49a button.colab-df-convert');\n",
              "        buttonEl.style.display =\n",
              "          google.colab.kernel.accessAllowed ? 'block' : 'none';\n",
              "\n",
              "        async function convertToInteractive(key) {\n",
              "          const element = document.querySelector('#df-74b44d5e-1fde-4f90-ad54-580f2074e49a');\n",
              "          const dataTable =\n",
              "            await google.colab.kernel.invokeFunction('convertToInteractive',\n",
              "                                                     [key], {});\n",
              "          if (!dataTable) return;\n",
              "\n",
              "          const docLinkHtml = 'Like what you see? Visit the ' +\n",
              "            '<a target=\"_blank\" href=https://colab.research.google.com/notebooks/data_table.ipynb>data table notebook</a>'\n",
              "            + ' to learn more about interactive tables.';\n",
              "          element.innerHTML = '';\n",
              "          dataTable['output_type'] = 'display_data';\n",
              "          await google.colab.output.renderOutput(dataTable, element);\n",
              "          const docLink = document.createElement('div');\n",
              "          docLink.innerHTML = docLinkHtml;\n",
              "          element.appendChild(docLink);\n",
              "        }\n",
              "      </script>\n",
              "    </div>\n",
              "  </div>\n",
              "  "
            ]
          },
          "metadata": {},
          "execution_count": 125
        }
      ]
    },
    {
      "cell_type": "code",
      "source": [
        "data4=np.array(df)"
      ],
      "metadata": {
        "id": "MPTHIuLLFWvj"
      },
      "execution_count": 126,
      "outputs": []
    },
    {
      "cell_type": "code",
      "source": [
        "x=data4[:,1]/10\n",
        "y=data4[:,6]/10000\n",
        "print(x)\n",
        "print(y)"
      ],
      "metadata": {
        "colab": {
          "base_uri": "https://localhost:8080/"
        },
        "id": "g_wCzAUWFcGO",
        "outputId": "7cc51470-0de3-40b7-a359-266a98e4e26c"
      },
      "execution_count": 127,
      "outputs": [
        {
          "output_type": "stream",
          "name": "stdout",
          "text": [
            "[3.8 5.2 4.4 ... 5.4 3.6 5.3]\n",
            "[4.5999989999999995 2.67001 4.657501 ... 6.258262 4.637797 7.595001]\n"
          ]
        }
      ]
    },
    {
      "cell_type": "code",
      "source": [
        "plt.scatter(x,y)"
      ],
      "metadata": {
        "colab": {
          "base_uri": "https://localhost:8080/",
          "height": 450
        },
        "id": "8mnPvLkWFrXa",
        "outputId": "ca774e47-06a7-49ef-a918-30f358a201f0"
      },
      "execution_count": 128,
      "outputs": [
        {
          "output_type": "execute_result",
          "data": {
            "text/plain": [
              "<matplotlib.collections.PathCollection at 0x7f25f0854580>"
            ]
          },
          "metadata": {},
          "execution_count": 128
        },
        {
          "output_type": "display_data",
          "data": {
            "text/plain": [
              "<Figure size 640x480 with 1 Axes>"
            ],
            "image/png": "[encoded data removed]"
          },
          "metadata": {}
        }
      ]
    },
    {
      "cell_type": "code",
      "source": [
        "n=len(x)\n",
        "l=0.01\n",
        "loss_data=[]\n",
        "epoch=3000\n",
        "w=10\n",
        "b=15\n",
        "for i in range(epoch):\n",
        "  y_hat=x*w+b\n",
        "  mse=np.mean(np.abs(y-y_hat)**2)\n",
        "  loss_data.append(mse)\n",
        "  Dw=(-2/n)*np.sum(x*(y-y_hat))\n",
        "  Db=(-2/n)*np.sum(y-y_hat)\n",
        "  w=w-Dw*l\n",
        "  b=b-Db*l\n",
        "plt.show()\n",
        "print(f\"loss:{mse}\")\n",
        "print(f\"w:{w} b:{b}\")"
      ],
      "metadata": {
        "colab": {
          "base_uri": "https://localhost:8080/"
        },
        "id": "TWw2LccSFyDY",
        "outputId": "9dd47644-3875-46f2-97a5-a1924c278c50"
      },
      "execution_count": 132,
      "outputs": [
        {
          "output_type": "stream",
          "name": "stdout",
          "text": [
            "loss:3.6576274239658164\n",
            "w:0.4795059334427476 b:2.849003599668161\n"
          ]
        }
      ]
    },
    {
      "cell_type": "code",
      "source": [
        "plt.scatter(x,y)\n",
        "plt.scatter(x,y_hat,c=\"r\")\n",
        "plt.show()"
      ],
      "metadata": {
        "colab": {
          "base_uri": "https://localhost:8080/",
          "height": 433
        },
        "id": "QodtF8n2HD41",
        "outputId": "1957422a-0594-422b-82ed-8f0cda8deba8"
      },
      "execution_count": 133,
      "outputs": [
        {
          "output_type": "display_data",
          "data": {
            "text/plain": [
              "<Figure size 640x480 with 1 Axes>"
            ],
            "image/png": "[encoded data removed]"
          },
          "metadata": {}
        }
      ]
    },
    {
      "cell_type": "code",
      "source": [
        "plt.plot(loss_data)"
      ],
      "metadata": {
        "id": "bIcYGmwMaWxe",
        "outputId": "ed03ca2a-9167-45eb-9a78-ee8118a0e55b",
        "colab": {
          "base_uri": "https://localhost:8080/",
          "height": 447
        }
      },
      "execution_count": 134,
      "outputs": [
        {
          "output_type": "execute_result",
          "data": {
            "text/plain": [
              "[<matplotlib.lines.Line2D at 0x7f25f0897b80>]"
            ]
          },
          "metadata": {},
          "execution_count": 134
        },
        {
          "output_type": "display_data",
          "data": {
            "text/plain": [
              "<Figure size 640x480 with 1 Axes>"
            ],
            "image/png": "[encoded data removed]"
          },
          "metadata": {}
        }
      ]
    },
    {
      "cell_type": "code",
      "source": [
        "x_test4,y_test4=x[:int(len(x)*0.3)],y[:int(len(y)*0.3)]"
      ],
      "metadata": {
        "id": "pS5QpJe8GNqN"
      },
      "execution_count": 135,
      "outputs": []
    },
    {
      "cell_type": "code",
      "source": [
        "print(x_test4)\n",
        "print(y_test4)"
      ],
      "metadata": {
        "colab": {
          "base_uri": "https://localhost:8080/"
        },
        "id": "oG9zXDD9J9dL",
        "outputId": "c89e04f5-69aa-413f-86b6-003e1be34b7c"
      },
      "execution_count": 136,
      "outputs": [
        {
          "output_type": "stream",
          "name": "stdout",
          "text": [
            "[3.8 5.2 4.4 ... 4.1 2.9 3.5]\n",
            "[4.5999989999999995 2.67001 4.657501 ... 4.2762720000000005 6.000001\n",
            " 5.151142]\n"
          ]
        }
      ]
    },
    {
      "cell_type": "code",
      "source": [
        "n=len(x_test4)\n",
        "l=0.01\n",
        "loss_data=[]\n",
        "epoch=5000\n",
        "w=10\n",
        "b=15\n",
        "for i in range(epoch):\n",
        "  y_hat=x_test4*w+b\n",
        "  mse=np.mean(np.abs(y_test4-y_hat)**2)\n",
        "  loss_data.append(mse)\n",
        "  Dw=(-2/n)*np.sum(x_test4*(y_test4-y_hat))\n",
        "  Db=(-2/n)*np.sum(y_test4-y_hat)\n",
        "  w=w-Dw*l\n",
        "  b=b-Db*l\n",
        "plt.show()\n",
        "print(f\"loss:{mse}\")\n",
        "print(f\"w:{w} b:{b}\")"
      ],
      "metadata": {
        "colab": {
          "base_uri": "https://localhost:8080/"
        },
        "id": "lfWNkfMfIXsM",
        "outputId": "db6a90e7-32b6-4d7f-9d91-a9de2d6b0dd2"
      },
      "execution_count": 137,
      "outputs": [
        {
          "output_type": "stream",
          "name": "stdout",
          "text": [
            "loss:3.476708020206634\n",
            "w:0.5408749516454264 b:2.593506198918307\n"
          ]
        }
      ]
    },
    {
      "cell_type": "code",
      "source": [
        "plt.scatter(x,y)\n",
        "plt.scatter(x_test4,y_hat,c=\"r\")\n",
        "plt.show()"
      ],
      "metadata": {
        "colab": {
          "base_uri": "https://localhost:8080/",
          "height": 433
        },
        "id": "r_dNtWncKlzD",
        "outputId": "95429ff3-290f-4128-8910-23440d8e4a33"
      },
      "execution_count": 138,
      "outputs": [
        {
          "output_type": "display_data",
          "data": {
            "text/plain": [
              "<Figure size 640x480 with 1 Axes>"
            ],
            "image/png": "[encoded data removed]"
          },
          "metadata": {}
        }
      ]
    },
    {
      "cell_type": "code",
      "source": [
        "plt.plot(loss_data)"
      ],
      "metadata": {
        "colab": {
          "base_uri": "https://localhost:8080/",
          "height": 447
        },
        "id": "yG35SJT5K7JN",
        "outputId": "a7f6d1d8-4ec6-4bed-a3e4-097cb2dd0a7e"
      },
      "execution_count": 139,
      "outputs": [
        {
          "output_type": "execute_result",
          "data": {
            "text/plain": [
              "[<matplotlib.lines.Line2D at 0x7f25f1464250>]"
            ]
          },
          "metadata": {},
          "execution_count": 139
        },
        {
          "output_type": "display_data",
          "data": {
            "text/plain": [
              "<Figure size 640x480 with 1 Axes>"
            ],
            "image/png": "[encoded data removed]"
          },
          "metadata": {}
        }
      ]
    },
    {
      "cell_type": "code",
      "source": [
        "y_hat=y_test4[5]*w+b\n",
        "print(y_test4[5])\n",
        "print(y_hat)"
      ],
      "metadata": {
        "colab": {
          "base_uri": "https://localhost:8080/"
        },
        "id": "xeplhW7vLTB2",
        "outputId": "b709f935-c079-45a5-aabe-d655f988ae69"
      },
      "execution_count": 140,
      "outputs": [
        {
          "output_type": "stream",
          "name": "stdout",
          "text": [
            "6.7800009999999995\n",
            "6.260638911949249\n"
          ]
        }
      ]
    },
    {
      "cell_type": "code",
      "source": [],
      "metadata": {
        "id": "G6cJQME6LGlC"
      },
      "execution_count": 69,
      "outputs": []
    }
  ]
}