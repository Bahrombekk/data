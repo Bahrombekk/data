{
  "nbformat": 4,
  "nbformat_minor": 0,
  "metadata": {
    "colab": {
      "provenance": [],
      "authorship_tag": "ABX9TyPSc7WIpSWNiS33N36siO6s",
      "include_colab_link": true
    },
    "kernelspec": {
      "name": "python3",
      "display_name": "Python 3"
    },
    "language_info": {
      "name": "python"
    }
  },
  "cells": [
    {
      "cell_type": "markdown",
      "metadata": {
        "id": "view-in-github",
        "colab_type": "text"
      },
      "source": [
        "<a href=\"https://colab.research.google.com/github/Bahrombekk/data/blob/main/AUTOGRAD.ipynb\" target=\"_parent\"><img src=\"https://colab.research.google.com/assets/colab-badge.svg\" alt=\"Open In Colab\"/></a>"
      ]
    },
    {
      "cell_type": "code",
      "execution_count": 5,
      "metadata": {
        "id": "MECvKqi_2j5F"
      },
      "outputs": [],
      "source": [
        "import numpy as np\n",
        "import matplotlib.pyplot as plt\n",
        "import torch"
      ]
    },
    {
      "cell_type": "code",
      "source": [
        "x=torch.tensor([1,2,3,4],dtype=torch.float64)\n",
        "y=torch.tensor([3,5,7,9],dtype=torch.float64)"
      ],
      "metadata": {
        "id": "cgfBbH4A4V1-"
      },
      "execution_count": 23,
      "outputs": []
    },
    {
      "cell_type": "code",
      "source": [
        "w=torch.tensor(10,dtype=torch.float64,requires_grad=True)\n",
        "b=torch.tensor(10,dtype=torch.float64,requires_grad=True)"
      ],
      "metadata": {
        "id": "xzcDjIOC4pmz"
      },
      "execution_count": 24,
      "outputs": []
    },
    {
      "cell_type": "code",
      "source": [
        "y_hat=w*x+b"
      ],
      "metadata": {
        "id": "CHJWyQkk4_J4"
      },
      "execution_count": 25,
      "outputs": []
    },
    {
      "cell_type": "code",
      "source": [
        "L=0.01\n",
        "epochs=5000\n",
        "loss_data=[]\n",
        "loss=torch.nn.MSELoss()\n",
        "for i in range(epochs):\n",
        "  y_hat=w*x+b\n",
        "  l=loss(y,y_hat)\n",
        "\n",
        "  loss_data.append(l.item())\n",
        "\n",
        "  l.backward()\n",
        "\n",
        "  with torch.no_grad():\n",
        "    w.data=w.data-w.grad.data*L\n",
        "    b.data=b.data-b.grad.data*L\n",
        "\n",
        "    w.grad.zero_()\n",
        "    b.grad.zero_()\n",
        "print(f\"loss: {l}  w : {w.data.item()}  b : {b.data.item()}\")"
      ],
      "metadata": {
        "colab": {
          "base_uri": "https://localhost:8080/"
        },
        "id": "oDSDOtLK3Au-",
        "outputId": "3dc336e7-982e-47a4-d0ee-7cb3d0cc3f35"
      },
      "execution_count": 27,
      "outputs": [
        {
          "output_type": "stream",
          "name": "stdout",
          "text": [
            "loss: 5.060561504380858e-13  w : 1.9999994097206535  b : 1.0000017354932609\n"
          ]
        }
      ]
    },
    {
      "cell_type": "code",
      "source": [],
      "metadata": {
        "id": "KBCx1xaZ5EZj"
      },
      "execution_count": null,
      "outputs": []
    }
  ]
}